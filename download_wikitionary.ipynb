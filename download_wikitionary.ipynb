{
 "cells": [
  {
   "cell_type": "code",
   "execution_count": null,
   "metadata": {},
   "outputs": [],
   "source": [
    "from bs4 import BeautifulSoup\n",
    "import pandas as pd"
   ]
  },
  {
   "cell_type": "code",
   "execution_count": null,
   "metadata": {},
   "outputs": [],
   "source": [
    "with open('wiktionary_frequency.html', encoding='utf-8') as fp:\n",
    "    html = fp.read()\n",
    "\n",
    "soup = BeautifulSoup(html, \"html.parser\")\n",
    "\n",
    "# Find all <li> elements\n",
    "ordered_list = soup.find(\"ol\")\n",
    "list_items = ordered_list.find_all(\"li\")\n",
    "\n",
    "# Extract words and their ranks\n",
    "words = [item.find(\"a\").text for item in list_items]\n",
    "ranks = list(range(1, len(words) + 1))\n",
    "\n",
    "# Create a DataFrame\n",
    "df = pd.DataFrame(words, index=ranks, columns=['Word'])\n",
    "\n",
    "# Show the DataFrame\n",
    "# print(df)"
   ]
  },
  {
   "cell_type": "code",
   "execution_count": null,
   "metadata": {},
   "outputs": [],
   "source": [
    "import json\n",
    "\n",
    "with open('Woordenlijst.json', encoding='utf-8') as fp:\n",
    "    dutch_words = json.load(fp)\n",
    "\n",
    "df['definition'] = df.apply(lambda x: dutch_words.get(x.item(), [None])[0], axis=1)\n",
    "df.to_csv('word_frequency_wikitionary_17_3_2024.csv')"
   ]
  },
  {
   "cell_type": "code",
   "execution_count": null,
   "metadata": {},
   "outputs": [],
   "source": [
    "df.iloc[0].item()"
   ]
  },
  {
   "cell_type": "code",
   "execution_count": null,
   "metadata": {},
   "outputs": [],
   "source": [
    "pd.read_csv('word_frequency_wikitionary_17_3_2024.csv', index_col=0).set_index('Word').to_dict()['definition']"
   ]
  },
  {
   "cell_type": "code",
   "execution_count": null,
   "metadata": {},
   "outputs": [],
   "source": [
    "dutch_words"
   ]
  }
 ],
 "metadata": {
  "kernelspec": {
   "display_name": "Python 3",
   "language": "python",
   "name": "python3"
  },
  "language_info": {
   "codemirror_mode": {
    "name": "ipython",
    "version": 3
   },
   "file_extension": ".py",
   "mimetype": "text/x-python",
   "name": "python",
   "nbconvert_exporter": "python",
   "pygments_lexer": "ipython3",
   "version": "3.11.1"
  }
 },
 "nbformat": 4,
 "nbformat_minor": 2
}
